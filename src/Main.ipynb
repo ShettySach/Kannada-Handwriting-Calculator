{
 "cells": [
  {
   "cell_type": "markdown",
   "id": "49aa3922-8229-4d77-a9a6-2e004a38858c",
   "metadata": {},
   "source": [
    "#### Loading ConvNet model state"
   ]
  },
  {
   "cell_type": "code",
   "execution_count": 1,
   "id": "fc0fb292-8e84-43f4-88c1-31c6016ed59e",
   "metadata": {},
   "outputs": [],
   "source": [
    "import torch\n",
    "import torch.nn as nn\n",
    "import torch.nn.functional as F"
   ]
  },
  {
   "cell_type": "code",
   "execution_count": 2,
   "id": "9e4cb2a4-0c87-40a9-b13b-5c71a078a029",
   "metadata": {},
   "outputs": [],
   "source": [
    "class ConvNet(nn.Module):\n",
    "    def __init__(self):\n",
    "        super(ConvNet, self).__init__()\n",
    "        self.conv1 = nn.Conv2d(in_channels=1, out_channels=32, kernel_size=5, padding=2)\n",
    "        self.conv2 = nn.Conv2d(in_channels=32, out_channels=32, kernel_size=5, padding=2)\n",
    "        self.bn1 = nn.BatchNorm2d(32, momentum=0.15)\n",
    "        self.pool1 = nn.MaxPool2d(kernel_size=2, stride=2)\n",
    "        self.dropout1 = nn.Dropout(0.25)\n",
    "\n",
    "        self.conv3 = nn.Conv2d(in_channels=32, out_channels=64, kernel_size=3, padding=1)\n",
    "        self.conv4 = nn.Conv2d(in_channels=64, out_channels=64, kernel_size=3, padding=1)\n",
    "        self.bn2 = nn.BatchNorm2d(64, momentum=0.15)\n",
    "        self.pool2 = nn.MaxPool2d(kernel_size=2, stride=2)\n",
    "        self.dropout2 = nn.Dropout(0.25)\n",
    "\n",
    "        self.conv5 = nn.Conv2d(in_channels=64, out_channels=32, kernel_size=5, padding=2)\n",
    "        self.conv6 = nn.Conv2d(in_channels=32, out_channels=32, kernel_size=5, padding=2)\n",
    "        self.bn3 = nn.BatchNorm2d(32, momentum=0.15)\n",
    "        self.pool3 = nn.MaxPool2d(kernel_size=2, stride=2)\n",
    "        self.dropout3 = nn.Dropout(0.25)\n",
    "\n",
    "        self.flatten = nn.Flatten()\n",
    "        self.fc1 = nn.Linear(32 * 3 * 3, 256)\n",
    "        self.dropout4 = nn.Dropout(0.4)\n",
    "        self.fc2 = nn.Linear(256, 17)\n",
    "\n",
    "    def forward(self, x):\n",
    "        x = F.relu(self.conv1(x))\n",
    "        x = F.relu(self.conv2(x))\n",
    "        x = self.bn1(x)\n",
    "        x = self.pool1(x)\n",
    "        x = self.dropout1(x)\n",
    "\n",
    "        x = F.relu(self.conv3(x))\n",
    "        x = F.relu(self.conv4(x))\n",
    "        x = self.bn2(x)\n",
    "        x = self.pool2(x)\n",
    "        x = self.dropout2(x)\n",
    "\n",
    "        x = F.relu(self.conv5(x))\n",
    "        x = F.relu(self.conv6(x))\n",
    "        x = self.bn3(x)\n",
    "        x = self.pool3(x)\n",
    "        x = self.dropout3(x)\n",
    "\n",
    "        x = self.flatten(x)\n",
    "        x = F.relu(self.fc1(x))\n",
    "        x = self.dropout4(x)\n",
    "        logits = self.fc2(x)\n",
    "        return logits"
   ]
  },
  {
   "cell_type": "code",
   "execution_count": 3,
   "id": "feef0aa2",
   "metadata": {},
   "outputs": [],
   "source": [
    "model_path = \"../model/ConvNet.pt\""
   ]
  },
  {
   "cell_type": "code",
   "execution_count": 4,
   "id": "38a98b66-38b8-47a5-b890-662e5b15b673",
   "metadata": {},
   "outputs": [
    {
     "data": {
      "text/plain": [
       "ConvNet(\n",
       "  (conv1): Conv2d(1, 32, kernel_size=(5, 5), stride=(1, 1), padding=(2, 2))\n",
       "  (conv2): Conv2d(32, 32, kernel_size=(5, 5), stride=(1, 1), padding=(2, 2))\n",
       "  (bn1): BatchNorm2d(32, eps=1e-05, momentum=0.15, affine=True, track_running_stats=True)\n",
       "  (pool1): MaxPool2d(kernel_size=2, stride=2, padding=0, dilation=1, ceil_mode=False)\n",
       "  (dropout1): Dropout(p=0.25, inplace=False)\n",
       "  (conv3): Conv2d(32, 64, kernel_size=(3, 3), stride=(1, 1), padding=(1, 1))\n",
       "  (conv4): Conv2d(64, 64, kernel_size=(3, 3), stride=(1, 1), padding=(1, 1))\n",
       "  (bn2): BatchNorm2d(64, eps=1e-05, momentum=0.15, affine=True, track_running_stats=True)\n",
       "  (pool2): MaxPool2d(kernel_size=2, stride=2, padding=0, dilation=1, ceil_mode=False)\n",
       "  (dropout2): Dropout(p=0.25, inplace=False)\n",
       "  (conv5): Conv2d(64, 32, kernel_size=(5, 5), stride=(1, 1), padding=(2, 2))\n",
       "  (conv6): Conv2d(32, 32, kernel_size=(5, 5), stride=(1, 1), padding=(2, 2))\n",
       "  (bn3): BatchNorm2d(32, eps=1e-05, momentum=0.15, affine=True, track_running_stats=True)\n",
       "  (pool3): MaxPool2d(kernel_size=2, stride=2, padding=0, dilation=1, ceil_mode=False)\n",
       "  (dropout3): Dropout(p=0.25, inplace=False)\n",
       "  (flatten): Flatten(start_dim=1, end_dim=-1)\n",
       "  (fc1): Linear(in_features=288, out_features=256, bias=True)\n",
       "  (dropout4): Dropout(p=0.4, inplace=False)\n",
       "  (fc2): Linear(in_features=256, out_features=17, bias=True)\n",
       ")"
      ]
     },
     "execution_count": 4,
     "metadata": {},
     "output_type": "execute_result"
    }
   ],
   "source": [
    "model = ConvNet()\n",
    "model.load_state_dict(torch.load(model_path))\n",
    "\n",
    "model.eval()"
   ]
  },
  {
   "cell_type": "markdown",
   "id": "e4dd0e67-86fc-4331-b569-943273a9d8bd",
   "metadata": {},
   "source": [
    "#### Prediction function\n",
    "##### Returns most probable class and its corresponding probability"
   ]
  },
  {
   "cell_type": "code",
   "execution_count": 5,
   "id": "1837be85-d917-49ea-8c70-831c1a4c20b8",
   "metadata": {},
   "outputs": [],
   "source": [
    "import cv2"
   ]
  },
  {
   "cell_type": "code",
   "execution_count": 6,
   "id": "61b98967",
   "metadata": {},
   "outputs": [],
   "source": [
    "def predict(img):\n",
    "    img = cv2.bitwise_not(img)\n",
    "    img = cv2.resize(\n",
    "        img, (28, 28), \n",
    "        interpolation = cv2.INTER_AREA\n",
    "    ) \n",
    "    img = img.reshape(1, 1, 28, 28)\n",
    "    img = img.astype('float32')\n",
    "    img = img / 255.0\n",
    "    img = torch.tensor(img)\n",
    "\n",
    "    prediction = model(img)\n",
    "    probabilities = F.softmax(prediction, dim=1)\n",
    "    predicted_class = torch.argmax(probabilities, dim=1).item()\n",
    "    prediction_probability = probabilities[0, predicted_class].item()\n",
    "\n",
    "    return predicted_class, prediction_probability"
   ]
  },
  {
   "cell_type": "markdown",
   "id": "4d63c56a-1b2b-4e48-bbda-e6f921ceaffd",
   "metadata": {},
   "source": [
    "#### Function to change numbers to symbols\n",
    "##### The model prediction returns 0-9 for numbers and 10-16 for symbols"
   ]
  },
  {
   "cell_type": "code",
   "execution_count": 7,
   "id": "ad28352a",
   "metadata": {},
   "outputs": [],
   "source": [
    "def number_to_symbol(x):\n",
    "    if x == 10:\n",
    "        return '+'\n",
    "    if x == 11:\n",
    "        return '-'\n",
    "    if x == 12:\n",
    "        return '*'\n",
    "    if x == 13:\n",
    "        return '/'\n",
    "    if x == 14:\n",
    "        return '('\n",
    "    if x == 15:\n",
    "        return ')'\n",
    "    if x == 16:\n",
    "        return '.'\n",
    "    else:\n",
    "        return str(x)"
   ]
  },
  {
   "cell_type": "markdown",
   "id": "fe65b055-1668-4d9b-b495-2521b8a85333",
   "metadata": {},
   "source": [
    "#### Function to change English numbers to Kannada numbers"
   ]
  },
  {
   "cell_type": "code",
   "execution_count": 8,
   "id": "430503ec-bb88-4d0f-ae4e-03837396aea2",
   "metadata": {},
   "outputs": [
    {
     "name": "stdout",
     "output_type": "stream",
     "text": [
      "( ೩ * ೪ ) / ೬ - \n"
     ]
    }
   ],
   "source": [
    "kannada = ['೦', '೧', '೨', '೩', '೪', '೫', '೬', '೭', '೮', '೯']\n",
    "\n",
    "def english_to_kannada(s):\n",
    "    return ''.join(\n",
    "        kannada[int(i)] if i.isnumeric() \n",
    "        else i \n",
    "        for i in s\n",
    "    )\n",
    "\n",
    "result = english_to_kannada(\"( 3 * 4 ) / 6 - \")\n",
    "print(result)"
   ]
  },
  {
   "cell_type": "markdown",
   "id": "fb4e972c-c11a-4587-8f4c-c22d8e902968",
   "metadata": {},
   "source": [
    "#### Function to change displayed image"
   ]
  },
  {
   "cell_type": "code",
   "execution_count": 9,
   "id": "7d267918",
   "metadata": {},
   "outputs": [],
   "source": [
    "def change_image(img):\n",
    "    display_image = Image.fromarray(img)\n",
    "    display_image = ctk.CTkImage(dark_image = display_image, size = (width // 2, height // 2))\n",
    "    image_label.configure(image = display_image)\n",
    "    image_label.image = display_image"
   ]
  },
  {
   "cell_type": "markdown",
   "id": "9f22c48a-1d92-43f7-a8c8-baabb9860501",
   "metadata": {},
   "source": [
    "#### Function to solve expression\n",
    "##### Since only numbers and symbols can be the input, eval() can be used safely"
   ]
  },
  {
   "cell_type": "code",
   "execution_count": 10,
   "id": "68b14ceb",
   "metadata": {},
   "outputs": [],
   "source": [
    "def solve(predictions):\n",
    "    expression = ''.join(\n",
    "        predicted_class\n",
    "        for predicted_class in predictions\n",
    "    )\n",
    "        \n",
    "    exp.delete('1.0', ctk.END)\n",
    "    sol.delete('1.0', ctk.END)\n",
    "\n",
    "    try:\n",
    "        solution = eval(str(expression)) \n",
    "        solution = str(float(f\"{solution:.4f}\"))\n",
    "    \n",
    "        print(f\"{expression} = {solution}\")\n",
    "        exp.insert(ctk.INSERT, \"{}    [ {}]\".format(english_to_kannada(expression), expression))\n",
    "        sol.insert(ctk.INSERT, \"= {}    [ {} ]\".format(english_to_kannada(solution), solution))\n",
    "        \n",
    "    except Exception:\n",
    "        print(f\"{expression} = Invalid\")\n",
    "        exp.insert(ctk.INSERT, \"{}\".format(expression))\n",
    "        sol.insert(ctk.INSERT, \"Invalid expression\")"
   ]
  },
  {
   "cell_type": "markdown",
   "id": "c6566426-ebab-4291-8d14-422f7af9af0a",
   "metadata": {},
   "source": [
    "#### Calculate function"
   ]
  },
  {
   "cell_type": "code",
   "execution_count": 11,
   "id": "ce5c8098",
   "metadata": {},
   "outputs": [],
   "source": [
    "red = (0, 0, 225)\n",
    "green = (0, 230, 0)\n",
    "blue = (225, 0, 0)\n",
    "white = (255, 255, 255)"
   ]
  },
  {
   "cell_type": "code",
   "execution_count": 12,
   "id": "75a245e0-3844-4ae3-b1c8-e981b294c6f4",
   "metadata": {},
   "outputs": [],
   "source": [
    "import numpy as np"
   ]
  },
  {
   "cell_type": "code",
   "execution_count": 13,
   "id": "b0807b2b",
   "metadata": {},
   "outputs": [],
   "source": [
    "def calculate():\n",
    "    img = cv2.cvtColor(np.array(image1), cv2.COLOR_RGB2BGR)\n",
    "\n",
    "    # Add padding around the original image\n",
    "    pad = 2\n",
    "    img = cv2.copyMakeBorder(\n",
    "        img, pad, pad, pad, pad, cv2.BORDER_CONSTANT, value=(255, 255, 255)\n",
    "    )\n",
    "\n",
    "    # Blur it to remove noise\n",
    "    img = cv2.GaussianBlur(img, (5, 5), 5)\n",
    "\n",
    "    # Inverted grayscale version with threshold (better for finding contours)\n",
    "    grayscale = cv2.cvtColor(img, cv2.COLOR_BGR2GRAY)\n",
    "    threshold_img = cv2.threshold(\n",
    "        grayscale, 200, 255, cv2.THRESH_BINARY\n",
    "    )[1]\n",
    "\n",
    "    # Finding contours (only external) and sort them by x co-ordinates, left to right\n",
    "    threshold_img = cv2.bitwise_not(threshold_img)\n",
    "    contours, _ = cv2.findContours(threshold_img, cv2.RETR_EXTERNAL, cv2.CHAIN_APPROX_NONE)\n",
    "    contours = sorted(contours, key=lambda x: cv2.boundingRect(x)[0])\n",
    "\n",
    "    predictions = []\n",
    "\n",
    "    for i, contour in enumerate(contours):\n",
    "        x, y, w, h = cv2.boundingRect(contour)\n",
    "\n",
    "        # Crop the region of interest\n",
    "        cropped_img = grayscale[y : y + h, x : x + w]\n",
    "\n",
    "        # Adding padding if necessary for cases like \"-\",\n",
    "        # where width is much larger than height\n",
    "        if abs(w) > 1.5 * abs(h):\n",
    "            pad = 3 * (w // h) ** 3\n",
    "            cropped_img = cv2.copyMakeBorder(\n",
    "                cropped_img, pad, pad, 0, 0, cv2.BORDER_CONSTANT, value=255\n",
    "            )\n",
    "\n",
    "        # Resize and pad the cropped image\n",
    "        resized_img = cv2.resize(cropped_img, (28, 28))\n",
    "        padded_img = cv2.copyMakeBorder(\n",
    "            resized_img, 6, 6, 6, 6, cv2.BORDER_CONSTANT, value=255\n",
    "        )\n",
    "\n",
    "        # Perform prediction\n",
    "        predicted_class, prediction_probability = predict(padded_img)\n",
    "        prediction_probability = round(prediction_probability * 100, 2)\n",
    "\n",
    "        predictions.append(number_to_symbol(predicted_class))\n",
    "\n",
    "        # Draw rectangle borders, predicted number/symbol and corresponding probability\n",
    "        cv2.rectangle(img, (x, y), (x + w, y + h), (0, 255, 0), 7)\n",
    "\n",
    "        # Adjusting text placement\n",
    "        if y < 80:\n",
    "            text_y = y + h + 85\n",
    "        else:\n",
    "            text_y = y - 25\n",
    "\n",
    "        cv2.putText(\n",
    "            img,\n",
    "            f\"{number_to_symbol(predicted_class)}\",\n",
    "            (x, text_y),\n",
    "            cv2.FONT_HERSHEY_SIMPLEX,\n",
    "            3,\n",
    "            (255, 0, 0),\n",
    "            10,\n",
    "        )\n",
    "        cv2.putText(\n",
    "            img,\n",
    "            f\"{prediction_probability}%\",\n",
    "            (x + 75, text_y),\n",
    "            cv2.FONT_HERSHEY_DUPLEX,\n",
    "            1.75,\n",
    "            (0, 0, 255),\n",
    "            3,\n",
    "        )\n",
    "\n",
    "    change_image(img)\n",
    "    solve(predictions)"
   ]
  },
  {
   "cell_type": "markdown",
   "id": "244fb7a6-3c07-4602-a685-7fb0c250deb7",
   "metadata": {},
   "source": [
    "#### Canvas\n",
    "##### Setting width, height and of canvas, diameter and delta of the brush\n",
    "##### Functions to paint and clear canvas\n",
    "##### Depending on your screen resolution, you may need to change brush delta and thickness to get more accurate results"
   ]
  },
  {
   "cell_type": "code",
   "execution_count": 14,
   "id": "3df523d7",
   "metadata": {},
   "outputs": [],
   "source": [
    "width = 1700\n",
    "height = 500"
   ]
  },
  {
   "cell_type": "code",
   "execution_count": 15,
   "id": "803cb5ac",
   "metadata": {},
   "outputs": [],
   "source": [
    "def paint(event):\n",
    "    delta = 10\n",
    "    x1, y1 = (event.x - delta), (event.y - delta)\n",
    "    x2, y2 = (event.x + delta), (event.y + delta)\n",
    "    canv.create_oval(x1, y1, x2, y2, fill=\"black\", width=17)\n",
    "    draw.line([x1, y1, x2, y2], fill=\"black\", width=17)"
   ]
  },
  {
   "cell_type": "code",
   "execution_count": 16,
   "id": "7b1917e0",
   "metadata": {},
   "outputs": [],
   "source": [
    "def clear():\n",
    "    canv.delete('all')\n",
    "    draw.rectangle((0, 0, width, height), fill=(255, 255, 255, 0))\n",
    "    exp.delete('1.0', ctk.END)\n",
    "    sol.delete('1.0', ctk.END)"
   ]
  },
  {
   "cell_type": "markdown",
   "id": "867e29a1-863e-4317-a288-1a06e8db4656",
   "metadata": {},
   "source": [
    "#### GUI"
   ]
  },
  {
   "cell_type": "code",
   "execution_count": 17,
   "id": "cbfa7bca",
   "metadata": {},
   "outputs": [],
   "source": [
    "from PIL import ImageTk, Image, ImageDraw\n",
    "import PIL\n",
    "import customtkinter as ctk"
   ]
  },
  {
   "cell_type": "code",
   "execution_count": 18,
   "id": "a067335f-e291-4b0e-8e1d-fc47d7cf1f45",
   "metadata": {},
   "outputs": [],
   "source": [
    "ctk.set_appearance_mode(\"dark\")\n",
    "ctk.set_default_color_theme(\"dark-blue\")\n",
    "\n",
    "main_font = \"Liberation Mono\"\n",
    "font_size = 30"
   ]
  },
  {
   "cell_type": "markdown",
   "id": "10536125-d2ea-4cba-856e-68a459dc8e24",
   "metadata": {},
   "source": [
    "##### To rerun the calculator, you need to just rerun the below cell. "
   ]
  },
  {
   "cell_type": "code",
   "execution_count": 19,
   "id": "9a2f00ac",
   "metadata": {},
   "outputs": [
    {
     "name": "stdout",
     "output_type": "stream",
     "text": [
      "(30+5)/7 = 5.0\n"
     ]
    }
   ],
   "source": [
    "root = ctk.CTk()\n",
    "root.resizable(0, 0)\n",
    "root.title(\"Handwriting Calculator\")\n",
    "\n",
    "canv = ctk.CTkCanvas(root, width=width, height=height, bg=\"white\")\n",
    "canv.grid(row=0, column=0, columnspan=2, padx=10, pady=17)\n",
    "canv.bind(\"<B1-Motion>\", paint)\n",
    "\n",
    "image1 = Image.new(\"RGB\", (width, height), white)\n",
    "draw = ImageDraw.Draw(image1)\n",
    "\n",
    "exp_font = ctk.CTkFont(family=main_font, size=font_size)\n",
    "exp = ctk.CTkTextbox(\n",
    "    root,\n",
    "    exportselection=0,\n",
    "    padx=10,\n",
    "    pady=10,\n",
    "    height=height // 4,\n",
    "    width=width // 2,\n",
    "    font=exp_font,\n",
    ")\n",
    "exp.grid(row=2, column=0, padx=0, pady=3)\n",
    "\n",
    "sol_font = ctk.CTkFont(family=main_font, size=font_size, weight=\"bold\")\n",
    "sol = ctk.CTkTextbox(\n",
    "    root,\n",
    "    exportselection=0,\n",
    "    padx=10,\n",
    "    pady=10,\n",
    "    height=height // 4,\n",
    "    width=width // 2,\n",
    "    font=sol_font,\n",
    "    text_color=\"#3085ff\",\n",
    ")\n",
    "sol.grid(row=3, column=0, padx=0, pady=3)\n",
    "\n",
    "display_image = Image.new(\"RGB\", (width, height), white)\n",
    "display_image = ctk.CTkImage(dark_image=display_image, size=(width // 2, height // 2))\n",
    "\n",
    "image_label = ctk.CTkLabel(root, image=display_image, text=\"\")\n",
    "image_label.grid(row=2, column=1, padx=10, pady=5, rowspan=2)\n",
    "\n",
    "button_font = ctk.CTkFont(family=main_font, size=font_size-5)\n",
    "\n",
    "Calculate = ctk.CTkButton(\n",
    "    root,\n",
    "    text=\"Calculate\",\n",
    "    command=calculate,\n",
    "    fg_color=\"#0056C4\",\n",
    "    hover_color=\"#007dfe\",\n",
    "    font=button_font,\n",
    "    height=height // 22.5,\n",
    ")\n",
    " \n",
    "Clear = ctk.CTkButton(\n",
    "    root,\n",
    "    text=\"Clear\",\n",
    "    command=clear,\n",
    "    fg_color=\"#B50000\",\n",
    "    hover_color=\"#dd0000\",\n",
    "    font=button_font,\n",
    "    height=height // 22.5,\n",
    ")\n",
    "\n",
    "Calculate.grid(row=1, column=0, padx=5, pady=1, sticky=\"ew\")\n",
    "Clear.grid(row=1, column=1, padx=5, pady=1, sticky=\"ew\")\n",
    "\n",
    "root.mainloop()"
   ]
  }
 ],
 "metadata": {
  "kernelspec": {
   "display_name": "Python [conda env:calc] *",
   "language": "python",
   "name": "conda-env-calc-py"
  },
  "language_info": {
   "codemirror_mode": {
    "name": "ipython",
    "version": 3
   },
   "file_extension": ".py",
   "mimetype": "text/x-python",
   "name": "python",
   "nbconvert_exporter": "python",
   "pygments_lexer": "ipython3",
   "version": "3.9.18"
  }
 },
 "nbformat": 4,
 "nbformat_minor": 5
}
