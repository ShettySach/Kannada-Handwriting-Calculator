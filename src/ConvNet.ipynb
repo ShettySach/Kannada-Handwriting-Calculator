{
 "cells": [
  {
   "cell_type": "code",
   "execution_count": 1,
   "id": "e74aa718",
   "metadata": {},
   "outputs": [],
   "source": [
    "import numpy as np\n",
    "import pandas as pd"
   ]
  },
  {
   "cell_type": "markdown",
   "id": "3e42d69b-9850-4458-b5d8-0d0d637ba2a5",
   "metadata": {},
   "source": [
    "#### Symbols"
   ]
  },
  {
   "cell_type": "code",
   "execution_count": 2,
   "id": "f495b137",
   "metadata": {},
   "outputs": [],
   "source": [
    "symbols = pd.read_pickle('../datasets/data.pickle', compression='infer')\n",
    "symbols = pd.DataFrame(symbols)"
   ]
  },
  {
   "cell_type": "code",
   "execution_count": 3,
   "id": "4850a4e2",
   "metadata": {},
   "outputs": [],
   "source": [
    "X_symbols = symbols[\"img\"].apply(lambda x: np.reshape(x, (1, 28, 28)))"
   ]
  },
  {
   "cell_type": "code",
   "execution_count": 4,
   "id": "f33f60f7",
   "metadata": {},
   "outputs": [
    {
     "data": {
      "text/plain": [
       "0       +\n",
       "1       -\n",
       "2       x\n",
       "3       /\n",
       "4       (\n",
       "       ..\n",
       "4895    x\n",
       "4896    /\n",
       "4897    (\n",
       "4898    )\n",
       "4899    ,\n",
       "Name: label, Length: 4900, dtype: object"
      ]
     },
     "execution_count": 4,
     "metadata": {},
     "output_type": "execute_result"
    }
   ],
   "source": [
    "y_symbols = symbols[\"label\"]\n",
    "y_symbols"
   ]
  },
  {
   "cell_type": "code",
   "execution_count": 5,
   "id": "385cfb50",
   "metadata": {},
   "outputs": [],
   "source": [
    "def symbol_to_number(x):\n",
    "    if x == '+':\n",
    "        return 10\n",
    "    if x == '-':\n",
    "        return 11\n",
    "    if x == 'x':\n",
    "        return 12\n",
    "    if x == '/':\n",
    "        return 13\n",
    "    if x == '(':\n",
    "        return 14\n",
    "    if x == ')':\n",
    "        return 15\n",
    "    if x == ',':\n",
    "        return 16"
   ]
  },
  {
   "cell_type": "code",
   "execution_count": 6,
   "id": "de4dc78e",
   "metadata": {},
   "outputs": [
    {
     "data": {
      "text/plain": [
       "0       10\n",
       "1       11\n",
       "2       12\n",
       "3       13\n",
       "4       14\n",
       "        ..\n",
       "4895    12\n",
       "4896    13\n",
       "4897    14\n",
       "4898    15\n",
       "4899    16\n",
       "Name: label, Length: 4900, dtype: int64"
      ]
     },
     "execution_count": 6,
     "metadata": {},
     "output_type": "execute_result"
    }
   ],
   "source": [
    "y_symbols = y_symbols.apply(symbol_to_number)\n",
    "y_symbols"
   ]
  },
  {
   "cell_type": "code",
   "execution_count": 7,
   "id": "a370639d",
   "metadata": {},
   "outputs": [],
   "source": [
    "import matplotlib.pyplot as plt\n",
    "%matplotlib inline"
   ]
  },
  {
   "cell_type": "code",
   "execution_count": 8,
   "id": "eda86a69",
   "metadata": {},
   "outputs": [],
   "source": [
    "def plot_figure(X, y, idx):\n",
    "    plt.imshow(X[idx][0], cmap='Greys',  interpolation='nearest')\n",
    "    plt.title(y[idx])\n",
    "    plt.show()"
   ]
  },
  {
   "cell_type": "code",
   "execution_count": 9,
   "id": "f68a6d52",
   "metadata": {},
   "outputs": [
    {
     "data": {
      "image/png": "[encoded data removed]",
      "text/plain": [
       "<Figure size 2000x300 with 1 Axes>"
      ]
     },
     "metadata": {},
     "output_type": "display_data"
    },
    {
     "data": {
      "image/png": "[encoded data removed]",
      "text/plain": [
       "<Figure size 2000x300 with 1 Axes>"
      ]
     },
     "metadata": {},
     "output_type": "display_data"
    },
    {
     "data": {
      "image/png": "[encoded data removed]",
      "text/plain": [
       "<Figure size 2000x300 with 1 Axes>"
      ]
     },
     "metadata": {},
     "output_type": "display_data"
    }
   ],
   "source": [
    "plt.rcParams[\"figure.figsize\"] = (20,3)\n",
    "\n",
    "for i in range(0,3):\n",
    "    plot_figure(X_symbols, y_symbols, i)"
   ]
  },
  {
   "cell_type": "markdown",
   "id": "ff801cbc-f559-4444-b22e-2b551d74155d",
   "metadata": {},
   "source": [
    "#### Digits"
   ]
  },
  {
   "cell_type": "code",
   "execution_count": 10,
   "id": "3a24c060",
   "metadata": {},
   "outputs": [],
   "source": [
    "train = pd.read_csv('../datasets/train.csv') # Only using train.csv, as test.csv has no targets (y)"
   ]
  },
  {
   "cell_type": "code",
   "execution_count": 11,
   "id": "e1d75f7a",
   "metadata": {},
   "outputs": [],
   "source": [
    "X_numbers = train.drop('label',axis=1).apply(lambda x: np.array(x).reshape(1,28,28), axis=1)"
   ]
  },
  {
   "cell_type": "code",
   "execution_count": 12,
   "id": "b715291c-72ff-4aa9-bda4-2830c59649c0",
   "metadata": {},
   "outputs": [
    {
     "data": {
      "text/plain": [
       "0        0\n",
       "1        1\n",
       "2        2\n",
       "3        3\n",
       "4        4\n",
       "        ..\n",
       "59995    5\n",
       "59996    6\n",
       "59997    7\n",
       "59998    8\n",
       "59999    9\n",
       "Name: label, Length: 60000, dtype: int64"
      ]
     },
     "execution_count": 12,
     "metadata": {},
     "output_type": "execute_result"
    }
   ],
   "source": [
    "y_numbers = train[\"label\"]\n",
    "y_numbers"
   ]
  },
  {
   "cell_type": "code",
   "execution_count": 13,
   "id": "a74b1cdb",
   "metadata": {},
   "outputs": [],
   "source": [
    "X_numbers = X_numbers/255\n",
    "X_numbers = X_numbers.apply(lambda x: np.ceil(x))"
   ]
  },
  {
   "cell_type": "code",
   "execution_count": 14,
   "id": "e953a2d5",
   "metadata": {},
   "outputs": [
    {
     "data": {
      "image/png": "[encoded data removed]",
      "text/plain": [
       "<Figure size 2000x300 with 1 Axes>"
      ]
     },
     "metadata": {},
     "output_type": "display_data"
    },
    {
     "data": {
      "image/png": "[encoded data removed]",
      "text/plain": [
       "<Figure size 2000x300 with 1 Axes>"
      ]
     },
     "metadata": {},
     "output_type": "display_data"
    },
    {
     "data": {
      "image/png": "[encoded data removed]",
      "text/plain": [
       "<Figure size 2000x300 with 1 Axes>"
      ]
     },
     "metadata": {},
     "output_type": "display_data"
    }
   ],
   "source": [
    "for i in range(18,21):\n",
    "    plot_figure(X_numbers, y_numbers, i)"
   ]
  },
  {
   "cell_type": "markdown",
   "id": "fc2d2ead",
   "metadata": {},
   "source": [
    "#### Transforming and augmenting symbols dataset"
   ]
  },
  {
   "cell_type": "code",
   "execution_count": 15,
   "id": "39447887-1463-4e71-bd60-dbf468c1943a",
   "metadata": {},
   "outputs": [
    {
     "name": "stdout",
     "output_type": "stream",
     "text": [
      "8.571428571428571\n"
     ]
    }
   ],
   "source": [
    "num_n = len(X_numbers) / 10\n",
    "num_s = len(X_symbols) / 7\n",
    "\n",
    "print(num_n / num_s)"
   ]
  },
  {
   "cell_type": "markdown",
   "id": "59abe38d-c858-4e23-83f2-df3871c38ba6",
   "metadata": {},
   "source": [
    "##### There are about 8.57 times more images of a number than of a symbol\n",
    "##### Applying transformations, to match handwritten numbers and augmenting symbols dataset 9 times, to match the quantity."
   ]
  },
  {
   "cell_type": "code",
   "execution_count": 16,
   "id": "13c1d14c-976e-4a37-85ba-6e1a986276b8",
   "metadata": {},
   "outputs": [],
   "source": [
    "import torch\n",
    "import torchvision.transforms.v2 as v2 "
   ]
  },
  {
   "cell_type": "code",
   "execution_count": 17,
   "id": "9ec08f20-e3b7-426e-a1bb-68779de0cbbf",
   "metadata": {},
   "outputs": [],
   "source": [
    "transforms = v2.Compose([\n",
    "    v2.CenterCrop(28),\n",
    "    v2.RandomRotation(degrees=15),\n",
    "    v2.RandomAffine(degrees=0, translate=(0.1,0.1))\n",
    "])"
   ]
  },
  {
   "cell_type": "code",
   "execution_count": 18,
   "id": "888cf29d-4967-419f-a216-9ef131bca0c8",
   "metadata": {},
   "outputs": [
    {
     "data": {
      "image/png": "[encoded data removed]",
      "text/plain": [
       "<Figure size 2000x300 with 1 Axes>"
      ]
     },
     "metadata": {},
     "output_type": "display_data"
    }
   ],
   "source": [
    "sample = torch.Tensor(X_symbols[7])\n",
    "plt.imshow(sample[0], cmap='Greys',  interpolation='nearest')\n",
    "plt.show()"
   ]
  },
  {
   "cell_type": "code",
   "execution_count": 19,
   "id": "0d7422c8-d1f4-4439-b846-1e40fd0c8a63",
   "metadata": {},
   "outputs": [
    {
     "data": {
      "image/png": "[encoded data removed]",
      "text/plain": [
       "<Figure size 2000x300 with 1 Axes>"
      ]
     },
     "metadata": {},
     "output_type": "display_data"
    },
    {
     "data": {
      "text/plain": [
       "torch.Size"
      ]
     },
     "execution_count": 19,
     "metadata": {},
     "output_type": "execute_result"
    }
   ],
   "source": [
    "transformed_sample = transforms(sample)\n",
    "plt.imshow(transformed_sample[0], cmap='Greys',  interpolation='nearest')\n",
    "plt.show()\n",
    "type(transformed_sample.shape)"
   ]
  },
  {
   "cell_type": "code",
   "execution_count": 20,
   "id": "128e05a1-d019-408a-869f-a35f4e122230",
   "metadata": {},
   "outputs": [],
   "source": [
    "def tensor_transform(x):\n",
    "    x = torch.Tensor(x)\n",
    "    x = transforms(x)\n",
    "    return x.clone().detach()"
   ]
  },
  {
   "cell_type": "code",
   "execution_count": 21,
   "id": "08b6ccfc-5975-4825-97f1-eb0075883cb2",
   "metadata": {},
   "outputs": [
    {
     "name": "stdout",
     "output_type": "stream",
     "text": [
      "Augmentation 1 / 10\n",
      "Augmentation 2 / 10\n",
      "Augmentation 3 / 10\n",
      "Augmentation 4 / 10\n",
      "Augmentation 5 / 10\n",
      "Augmentation 6 / 10\n",
      "Augmentation 7 / 10\n",
      "Augmentation 8 / 10\n",
      "Augmentation 9 / 10\n",
      "Augmentation 10 / 10\n"
     ]
    }
   ],
   "source": [
    "augmentation_factor = 10\n",
    "\n",
    "new_X_symbols = []\n",
    "new_y_symbols = []\n",
    "\n",
    "for i in range(augmentation_factor):\n",
    "    new_X_symbols.extend(X_symbols.apply(tensor_transform).values)\n",
    "    new_y_symbols.extend(y_symbols.apply(torch.tensor).values)\n",
    "    print(f\"Augmentation {i+1} / {augmentation_factor}\")"
   ]
  },
  {
   "cell_type": "code",
   "execution_count": 22,
   "id": "a0a2c469-2fff-4d7a-866f-c3ace4ae4615",
   "metadata": {},
   "outputs": [],
   "source": [
    "X_symbols = torch.stack(new_X_symbols)\n",
    "y_symbols = torch.tensor(new_y_symbols)"
   ]
  },
  {
   "cell_type": "code",
   "execution_count": 23,
   "id": "8e4d4074-8cb0-41e9-b52e-0b5731233c1a",
   "metadata": {},
   "outputs": [],
   "source": [
    "X_numbers = torch.stack(X_numbers.apply(torch.Tensor).tolist())\n",
    "y_numbers = torch.tensor(y_numbers)"
   ]
  },
  {
   "cell_type": "code",
   "execution_count": 24,
   "id": "90a3cfd6-5837-4926-bd91-2bf277b0806f",
   "metadata": {},
   "outputs": [],
   "source": [
    "X = torch.cat([X_numbers, X_symbols])\n",
    "y = torch.cat([y_numbers, y_symbols])"
   ]
  },
  {
   "cell_type": "code",
   "execution_count": 25,
   "id": "aa7e85a3-8832-4d1c-91f0-ef4d5a617d13",
   "metadata": {},
   "outputs": [
    {
     "data": {
      "text/plain": [
       "torch.Size([109000, 1, 28, 28])"
      ]
     },
     "execution_count": 25,
     "metadata": {},
     "output_type": "execute_result"
    }
   ],
   "source": [
    "X.shape"
   ]
  },
  {
   "cell_type": "code",
   "execution_count": 26,
   "id": "042d0e73-cb44-435a-b9ac-6d6a806bcd5a",
   "metadata": {},
   "outputs": [
    {
     "data": {
      "text/plain": [
       "torch.Size([109000])"
      ]
     },
     "execution_count": 26,
     "metadata": {},
     "output_type": "execute_result"
    }
   ],
   "source": [
    "y.shape"
   ]
  },
  {
   "cell_type": "markdown",
   "id": "d25d0dc1-465e-4f06-8f9c-f1be2dce661c",
   "metadata": {},
   "source": [
    "#### Train Test Split"
   ]
  },
  {
   "cell_type": "code",
   "execution_count": 27,
   "id": "104c1f5a-b76f-4582-aebf-449ed74f981d",
   "metadata": {},
   "outputs": [],
   "source": [
    "from torch.utils.data import TensorDataset, DataLoader, random_split"
   ]
  },
  {
   "cell_type": "code",
   "execution_count": 28,
   "id": "be004fd2-49df-4b00-b245-7600660298af",
   "metadata": {},
   "outputs": [],
   "source": [
    "dataset = TensorDataset(X, y)"
   ]
  },
  {
   "cell_type": "code",
   "execution_count": 29,
   "id": "143be8ad-b644-4aa8-ad50-c5ac5e1298fc",
   "metadata": {},
   "outputs": [],
   "source": [
    "train_size = int(0.67 * len(dataset))\n",
    "test_size = len(dataset) - train_size"
   ]
  },
  {
   "cell_type": "code",
   "execution_count": 30,
   "id": "187cc7e4-bfad-421e-9901-19fa826eceb2",
   "metadata": {},
   "outputs": [],
   "source": [
    "train_dataset, test_dataset = random_split(dataset, [train_size, test_size])"
   ]
  },
  {
   "cell_type": "code",
   "execution_count": 31,
   "id": "14263d5b-f5ca-4452-bdb5-24e2dd9768b2",
   "metadata": {},
   "outputs": [],
   "source": [
    "train_dataloader = DataLoader(train_dataset, batch_size = 32, shuffle = True)\n",
    "test_dataloader = DataLoader(test_dataset, batch_size = 32, shuffle = True)"
   ]
  },
  {
   "cell_type": "markdown",
   "id": "032db91e-4f75-4867-9b38-92ec0dbab6ad",
   "metadata": {},
   "source": [
    "#### Convolutional Neural Network "
   ]
  },
  {
   "cell_type": "code",
   "execution_count": 32,
   "id": "bb42d63f-c7e4-4cb0-b2ae-e93abe62352f",
   "metadata": {},
   "outputs": [],
   "source": [
    "import torch.nn as nn\n",
    "import torch.nn.functional as F"
   ]
  },
  {
   "cell_type": "code",
   "execution_count": 33,
   "id": "bfbe5d64-e6de-478a-bf9e-3c7c48e6c675",
   "metadata": {},
   "outputs": [],
   "source": [
    "device = torch.device(\"cuda:0\" if torch.cuda.is_available() else \"cpu\")\n",
    "if torch.cuda.is_available():\n",
    "    torch.backends.cudnn.benchmark = True"
   ]
  },
  {
   "cell_type": "code",
   "execution_count": 34,
   "id": "c0af85a7-ec88-4080-84d2-dec5d4a71c68",
   "metadata": {},
   "outputs": [],
   "source": [
    "class ConvNet(nn.Module):\n",
    "    def __init__(self):\n",
    "        super(ConvNet, self).__init__()\n",
    "        self.conv1 = nn.Conv2d(in_channels=1, out_channels=32, kernel_size=5, padding=2)\n",
    "        self.conv2 = nn.Conv2d(in_channels=32, out_channels=32, kernel_size=5, padding=2)\n",
    "        self.bn1 = nn.BatchNorm2d(32, momentum=0.15)\n",
    "        self.pool1 = nn.MaxPool2d(kernel_size=2, stride=2)\n",
    "        self.dropout1 = nn.Dropout(0.25)\n",
    "\n",
    "        self.conv3 = nn.Conv2d(in_channels=32, out_channels=64, kernel_size=3, padding=1)\n",
    "        self.conv4 = nn.Conv2d(in_channels=64, out_channels=64, kernel_size=3, padding=1)\n",
    "        self.bn2 = nn.BatchNorm2d(64, momentum=0.15)\n",
    "        self.pool2 = nn.MaxPool2d(kernel_size=2, stride=2)\n",
    "        self.dropout2 = nn.Dropout(0.25)\n",
    "\n",
    "        self.conv5 = nn.Conv2d(in_channels=64, out_channels=32, kernel_size=5, padding=2)\n",
    "        self.conv6 = nn.Conv2d(in_channels=32, out_channels=32, kernel_size=5, padding=2)\n",
    "        self.bn3 = nn.BatchNorm2d(32, momentum=0.15)\n",
    "        self.pool3 = nn.MaxPool2d(kernel_size=2, stride=2)\n",
    "        self.dropout3 = nn.Dropout(0.25)\n",
    "\n",
    "        self.flatten = nn.Flatten()\n",
    "        self.fc1 = nn.Linear(32 * 3 * 3, 256)\n",
    "        self.dropout4 = nn.Dropout(0.4)\n",
    "        self.fc2 = nn.Linear(256, 17)\n",
    "\n",
    "    def forward(self, x):\n",
    "        x = F.relu(self.conv1(x))\n",
    "        x = F.relu(self.conv2(x))\n",
    "        x = self.bn1(x)\n",
    "        x = self.pool1(x)\n",
    "        x = self.dropout1(x)\n",
    "\n",
    "        x = F.relu(self.conv3(x))\n",
    "        x = F.relu(self.conv4(x))\n",
    "        x = self.bn2(x)\n",
    "        x = self.pool2(x)\n",
    "        x = self.dropout2(x)\n",
    "\n",
    "        x = F.relu(self.conv5(x))\n",
    "        x = F.relu(self.conv6(x))\n",
    "        x = self.bn3(x)\n",
    "        x = self.pool3(x)\n",
    "        x = self.dropout3(x)\n",
    "\n",
    "        x = self.flatten(x)\n",
    "        x = F.relu(self.fc1(x))\n",
    "        x = self.dropout4(x)\n",
    "        logits = self.fc2(x)\n",
    "        return logits"
   ]
  },
  {
   "cell_type": "code",
   "execution_count": 35,
   "id": "889ca4e6-c0ac-412b-93cf-fcec4f21c299",
   "metadata": {},
   "outputs": [
    {
     "name": "stdout",
     "output_type": "stream",
     "text": [
      "Device: cpu \n",
      "\n",
      "ConvNet(\n",
      "  (conv1): Conv2d(1, 32, kernel_size=(5, 5), stride=(1, 1), padding=(2, 2))\n",
      "  (conv2): Conv2d(32, 32, kernel_size=(5, 5), stride=(1, 1), padding=(2, 2))\n",
      "  (bn1): BatchNorm2d(32, eps=1e-05, momentum=0.15, affine=True, track_running_stats=True)\n",
      "  (pool1): MaxPool2d(kernel_size=2, stride=2, padding=0, dilation=1, ceil_mode=False)\n",
      "  (dropout1): Dropout(p=0.25, inplace=False)\n",
      "  (conv3): Conv2d(32, 64, kernel_size=(3, 3), stride=(1, 1), padding=(1, 1))\n",
      "  (conv4): Conv2d(64, 64, kernel_size=(3, 3), stride=(1, 1), padding=(1, 1))\n",
      "  (bn2): BatchNorm2d(64, eps=1e-05, momentum=0.15, affine=True, track_running_stats=True)\n",
      "  (pool2): MaxPool2d(kernel_size=2, stride=2, padding=0, dilation=1, ceil_mode=False)\n",
      "  (dropout2): Dropout(p=0.25, inplace=False)\n",
      "  (conv5): Conv2d(64, 32, kernel_size=(5, 5), stride=(1, 1), padding=(2, 2))\n",
      "  (conv6): Conv2d(32, 32, kernel_size=(5, 5), stride=(1, 1), padding=(2, 2))\n",
      "  (bn3): BatchNorm2d(32, eps=1e-05, momentum=0.15, affine=True, track_running_stats=True)\n",
      "  (pool3): MaxPool2d(kernel_size=2, stride=2, padding=0, dilation=1, ceil_mode=False)\n",
      "  (dropout3): Dropout(p=0.25, inplace=False)\n",
      "  (flatten): Flatten(start_dim=1, end_dim=-1)\n",
      "  (fc1): Linear(in_features=288, out_features=256, bias=True)\n",
      "  (dropout4): Dropout(p=0.4, inplace=False)\n",
      "  (fc2): Linear(in_features=256, out_features=17, bias=True)\n",
      ")\n"
     ]
    }
   ],
   "source": [
    "model = ConvNet().to(device)\n",
    "print(\"Device:\", device, \"\\n\")\n",
    "print(model)"
   ]
  },
  {
   "cell_type": "code",
   "execution_count": 36,
   "id": "f9ffba70-dbdc-42b0-8859-a130e187fffe",
   "metadata": {},
   "outputs": [
    {
     "name": "stdout",
     "output_type": "stream",
     "text": [
      "Model's state_dict:\n",
      "conv1.weight \t torch.Size([32, 1, 5, 5])\n",
      "conv1.bias \t torch.Size([32])\n",
      "conv2.weight \t torch.Size([32, 32, 5, 5])\n",
      "conv2.bias \t torch.Size([32])\n",
      "bn1.weight \t torch.Size([32])\n",
      "bn1.bias \t torch.Size([32])\n",
      "bn1.running_mean \t torch.Size([32])\n",
      "bn1.running_var \t torch.Size([32])\n",
      "bn1.num_batches_tracked \t torch.Size([])\n",
      "conv3.weight \t torch.Size([64, 32, 3, 3])\n",
      "conv3.bias \t torch.Size([64])\n",
      "conv4.weight \t torch.Size([64, 64, 3, 3])\n",
      "conv4.bias \t torch.Size([64])\n",
      "bn2.weight \t torch.Size([64])\n",
      "bn2.bias \t torch.Size([64])\n",
      "bn2.running_mean \t torch.Size([64])\n",
      "bn2.running_var \t torch.Size([64])\n",
      "bn2.num_batches_tracked \t torch.Size([])\n",
      "conv5.weight \t torch.Size([32, 64, 5, 5])\n",
      "conv5.bias \t torch.Size([32])\n",
      "conv6.weight \t torch.Size([32, 32, 5, 5])\n",
      "conv6.bias \t torch.Size([32])\n",
      "bn3.weight \t torch.Size([32])\n",
      "bn3.bias \t torch.Size([32])\n",
      "bn3.running_mean \t torch.Size([32])\n",
      "bn3.running_var \t torch.Size([32])\n",
      "bn3.num_batches_tracked \t torch.Size([])\n",
      "fc1.weight \t torch.Size([256, 288])\n",
      "fc1.bias \t torch.Size([256])\n",
      "fc2.weight \t torch.Size([17, 256])\n",
      "fc2.bias \t torch.Size([17])\n"
     ]
    }
   ],
   "source": [
    "print(\"Model's state_dict:\")\n",
    "for param_tensor in model.state_dict():\n",
    "    print(param_tensor, \"\\t\", model.state_dict()[param_tensor].size())"
   ]
  },
  {
   "cell_type": "markdown",
   "id": "3b0139d0-4522-4757-9004-c165b3fe9c2e",
   "metadata": {},
   "source": [
    "#### Optimizer and loss function"
   ]
  },
  {
   "cell_type": "code",
   "execution_count": 37,
   "id": "fb3d3880-ad09-41b2-8098-be473e0d2fe0",
   "metadata": {},
   "outputs": [
    {
     "name": "stdout",
     "output_type": "stream",
     "text": [
      "CrossEntropyLoss()\n",
      "Adam (\n",
      "Parameter Group 0\n",
      "    amsgrad: False\n",
      "    betas: (0.9, 0.999)\n",
      "    capturable: False\n",
      "    differentiable: False\n",
      "    eps: 1e-08\n",
      "    foreach: None\n",
      "    fused: None\n",
      "    lr: 0.001\n",
      "    maximize: False\n",
      "    weight_decay: 0\n",
      ")\n"
     ]
    }
   ],
   "source": [
    "loss_fn = nn.CrossEntropyLoss()\n",
    "optimizer = torch.optim.Adam(\n",
    "    model.parameters(),\n",
    "    lr = 1e-3,\n",
    ")\n",
    "\n",
    "print(loss_fn)\n",
    "print(optimizer)"
   ]
  },
  {
   "cell_type": "code",
   "execution_count": 38,
   "id": "eaae8497-d2c0-4c01-873e-7ab8065a9b6f",
   "metadata": {},
   "outputs": [
    {
     "name": "stdout",
     "output_type": "stream",
     "text": [
      "Optimizer's state_dict:\n",
      "state \t {}\n",
      "param_groups \t [{'lr': 0.001, 'betas': (0.9, 0.999), 'eps': 1e-08, 'weight_decay': 0, 'amsgrad': False, 'maximize': False, 'foreach': None, 'capturable': False, 'differentiable': False, 'fused': None, 'params': [0, 1, 2, 3, 4, 5, 6, 7, 8, 9, 10, 11, 12, 13, 14, 15, 16, 17, 18, 19, 20, 21]}]\n"
     ]
    }
   ],
   "source": [
    "print(\"Optimizer's state_dict:\")\n",
    "for var_name in optimizer.state_dict():\n",
    "    print(var_name, \"\\t\", optimizer.state_dict()[var_name])"
   ]
  },
  {
   "cell_type": "markdown",
   "id": "782d3505-1f54-4df4-bdac-620837c46223",
   "metadata": {},
   "source": [
    "#### Training loop"
   ]
  },
  {
   "cell_type": "code",
   "execution_count": 39,
   "id": "aef51ab9-055a-4f1e-8544-35dc3529ceed",
   "metadata": {},
   "outputs": [],
   "source": [
    "from torch.autograd import Variable\n",
    "from torch.utils.tensorboard import SummaryWriter"
   ]
  },
  {
   "cell_type": "code",
   "execution_count": 40,
   "id": "e85dcac2-2cd1-4b75-8ebc-4423e71ece0c",
   "metadata": {},
   "outputs": [],
   "source": [
    "def train(dataloader, model, loss_fn, optimizer):\n",
    "    size = 0\n",
    "    model.train()\n",
    "    \n",
    "    batch_loss = {}\n",
    "    batch_accuracy = {}\n",
    "    \n",
    "    correct = 0\n",
    "    _correct = 0\n",
    "    \n",
    "    for batch, (X, y) in enumerate(dataloader):\n",
    "        X, y = X.to(device), y.to(device)\n",
    "        \n",
    "        y_pred = model(X)\n",
    "        loss = loss_fn(y_pred, y)\n",
    "        \n",
    "        optimizer.zero_grad()\n",
    "        loss.backward()\n",
    "        optimizer.step()\n",
    "        \n",
    "        _correct = (y_pred.argmax(1) == y).type(torch.float).sum().item()\n",
    "        _batch_size = len(X)\n",
    "        \n",
    "        correct += _correct\n",
    "        \n",
    "        batch_loss[batch] = loss.item()\n",
    "        batch_accuracy[batch] = _correct/_batch_size\n",
    "        \n",
    "        size += _batch_size\n",
    "        \n",
    "    correct /= size\n",
    "    print(f\"Training: \\n Accuracy: {(100*correct):>0.2f}%\")\n",
    "    \n",
    "    return batch_loss , batch_accuracy"
   ]
  },
  {
   "cell_type": "markdown",
   "id": "1bfb065b-70d5-489f-972d-711396ff05c6",
   "metadata": {},
   "source": [
    "#### Testing loop"
   ]
  },
  {
   "cell_type": "code",
   "execution_count": 41,
   "id": "4d267338-48a0-4277-978f-a333a3d0ae21",
   "metadata": {},
   "outputs": [],
   "source": [
    "def test(dataloader, model, loss_fn):\n",
    "    size = 0\n",
    "    num_batches = len(dataloader)\n",
    "    \n",
    "    model.eval()\n",
    "\n",
    "    test_loss, correct = 0, 0\n",
    "    \n",
    "    _correct = 0\n",
    "    _batch_size = 0\n",
    "    \n",
    "    batch_loss = {}\n",
    "    batch_accuracy = {}\n",
    "    \n",
    "    with torch.no_grad():\n",
    "        for batch, (X, y) in enumerate(dataloader):\n",
    "            \n",
    "            X, y = X.to(device), y.to(device)\n",
    "            model.to(device)\n",
    "            pred = model(X)\n",
    "            \n",
    "            batch_loss[batch] = loss_fn(pred, y).item()\n",
    "            test_loss += batch_loss[batch]\n",
    "            _batch_size = len(X)\n",
    "            \n",
    "            _correct = (pred.argmax(1) == y).type(torch.float).sum().item()\n",
    "            correct += _correct\n",
    "            \n",
    "            size+=_batch_size\n",
    "            batch_accuracy[batch] = _correct/_batch_size\n",
    "            \n",
    "    correct /= size\n",
    "    test_loss /= num_batches\n",
    "    print(f\"Testing: \\n Accuracy: {(100*correct):>0.2f}%, Avg loss: {test_loss:>8f} \\n\")\n",
    "     \n",
    "    return batch_loss , batch_accuracy"
   ]
  },
  {
   "cell_type": "markdown",
   "id": "41cb1d73-7ba2-4c1c-9326-afaa687e998d",
   "metadata": {},
   "source": [
    "#### Training and Testing"
   ]
  },
  {
   "cell_type": "code",
   "execution_count": 42,
   "id": "53aead1e-f262-4a60-b563-7d36311a6a23",
   "metadata": {},
   "outputs": [
    {
     "name": "stdout",
     "output_type": "stream",
     "text": [
      "Epoch 1\n",
      "Training: \n",
      " Accuracy: 96.29%\n",
      "Testing: \n",
      " Accuracy: 98.62%, Avg loss: 0.049032 \n",
      "\n",
      "Epoch 2\n",
      "Training: \n",
      " Accuracy: 98.90%\n",
      "Testing: \n",
      " Accuracy: 98.93%, Avg loss: 0.037344 \n",
      "\n",
      "Epoch 3\n",
      "Training: \n",
      " Accuracy: 99.12%\n",
      "Testing: \n",
      " Accuracy: 99.39%, Avg loss: 0.022025 \n",
      "\n",
      "Epoch 4\n",
      "Training: \n",
      " Accuracy: 99.21%\n",
      "Testing: \n",
      " Accuracy: 99.41%, Avg loss: 0.021423 \n",
      "\n",
      "Epoch 5\n",
      "Training: \n",
      " Accuracy: 99.37%\n",
      "Testing: \n",
      " Accuracy: 99.42%, Avg loss: 0.023173 \n",
      "\n",
      "Epoch 6\n",
      "Training: \n",
      " Accuracy: 99.43%\n",
      "Testing: \n",
      " Accuracy: 99.59%, Avg loss: 0.015661 \n",
      "\n",
      "Epoch 7\n",
      "Training: \n",
      " Accuracy: 99.49%\n",
      "Testing: \n",
      " Accuracy: 99.56%, Avg loss: 0.017469 \n",
      "\n",
      "Epoch 8\n",
      "Training: \n",
      " Accuracy: 99.55%\n",
      "Testing: \n",
      " Accuracy: 99.60%, Avg loss: 0.017322 \n",
      "\n",
      "Epoch 9\n",
      "Training: \n",
      " Accuracy: 99.53%\n",
      "Testing: \n",
      " Accuracy: 99.62%, Avg loss: 0.015708 \n",
      "\n",
      "Epoch 10\n",
      "Training: \n",
      " Accuracy: 99.60%\n",
      "Testing: \n",
      " Accuracy: 99.58%, Avg loss: 0.018041 \n",
      "\n",
      "Epoch 11\n",
      "Training: \n",
      " Accuracy: 99.60%\n",
      "Testing: \n",
      " Accuracy: 99.59%, Avg loss: 0.018316 \n",
      "\n",
      "Epoch 12\n",
      "Training: \n",
      " Accuracy: 99.67%\n",
      "Testing: \n",
      " Accuracy: 99.63%, Avg loss: 0.017350 \n",
      "\n",
      "Epoch 13\n",
      "Training: \n",
      " Accuracy: 99.66%\n",
      "Testing: \n",
      " Accuracy: 99.61%, Avg loss: 0.019259 \n",
      "\n",
      "Epoch 14\n",
      "Training: \n",
      " Accuracy: 99.66%\n",
      "Testing: \n",
      " Accuracy: 99.66%, Avg loss: 0.014200 \n",
      "\n",
      "Epoch 15\n",
      "Training: \n",
      " Accuracy: 99.70%\n",
      "Testing: \n",
      " Accuracy: 99.68%, Avg loss: 0.014286 \n",
      "\n",
      "Epoch 16\n",
      "Training: \n",
      " Accuracy: 99.73%\n",
      "Testing: \n",
      " Accuracy: 99.59%, Avg loss: 0.018699 \n",
      "\n",
      "Epoch 17\n",
      "Training: \n",
      " Accuracy: 99.73%\n",
      "Testing: \n",
      " Accuracy: 99.67%, Avg loss: 0.015983 \n",
      "\n",
      "Epoch 18\n",
      "Training: \n",
      " Accuracy: 99.77%\n",
      "Testing: \n",
      " Accuracy: 99.66%, Avg loss: 0.019097 \n",
      "\n",
      "Epoch 19\n",
      "Training: \n",
      " Accuracy: 99.77%\n",
      "Testing: \n",
      " Accuracy: 99.60%, Avg loss: 0.020026 \n",
      "\n",
      "Epoch 20\n",
      "Training: \n",
      " Accuracy: 99.79%\n",
      "Testing: \n",
      " Accuracy: 99.65%, Avg loss: 0.020700 \n",
      "\n",
      "\n",
      "Finished\n"
     ]
    }
   ],
   "source": [
    "train_batch_loss = []\n",
    "train_batch_accuracy = []\n",
    "test_batch_accuracy = []\n",
    "test_batch_loss = []\n",
    "train_epoch_no = []\n",
    "test_epoch_no = []\n",
    "\n",
    "epochs = 20\n",
    "for t in range(epochs):\n",
    "    print(f\"Epoch {t+1}\")\n",
    "    _train_batch_loss, _train_batch_accuracy = train(train_dataloader, model, loss_fn, optimizer)\n",
    "    _test_batch_loss, _test_batch_accuracy = test(test_dataloader, model, loss_fn)\n",
    "    \n",
    "    for i in range(len(_train_batch_loss)):\n",
    "        train_batch_loss.append(_train_batch_loss[i])\n",
    "        train_batch_accuracy.append(_train_batch_accuracy[i])\n",
    "        train_epoch_no.append( t + float((i+1)/len(_train_batch_loss)))     \n",
    "    \n",
    "    for i in range(len(_test_batch_loss)):\n",
    "        test_batch_loss.append(_test_batch_loss[i])\n",
    "        test_batch_accuracy.append(_test_batch_accuracy[i])\n",
    "        test_epoch_no.append( t + float((i+1)/len(_test_batch_loss)))     \n",
    "\n",
    "print(\"\\nFinished\")"
   ]
  },
  {
   "cell_type": "markdown",
   "id": "9e99bbac-c4a5-4040-9a65-eb570dad4bf7",
   "metadata": {},
   "source": [
    "#### Saving the model"
   ]
  },
  {
   "cell_type": "code",
   "execution_count": 45,
   "id": "590ca077-2b9b-485c-9b20-3fe2d258e802",
   "metadata": {},
   "outputs": [],
   "source": [
    "model_path = \"../model/ConvNet.pt\""
   ]
  },
  {
   "cell_type": "code",
   "execution_count": 46,
   "id": "5104dbc7-8a76-45ae-86b9-73ca61e8d089",
   "metadata": {},
   "outputs": [],
   "source": [
    "torch.save(model.state_dict(), model_path)"
   ]
  }
 ],
 "metadata": {
  "kernelspec": {
   "display_name": "Python [conda env:calc] *",
   "language": "python",
   "name": "conda-env-calc-py"
  },
  "language_info": {
   "codemirror_mode": {
    "name": "ipython",
    "version": 3
   },
   "file_extension": ".py",
   "mimetype": "text/x-python",
   "name": "python",
   "nbconvert_exporter": "python",
   "pygments_lexer": "ipython3",
   "version": "3.9.18"
  }
 },
 "nbformat": 4,
 "nbformat_minor": 5
}
